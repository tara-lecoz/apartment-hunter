{
 "cells": [
  {
   "cell_type": "code",
   "execution_count": 93,
   "metadata": {},
   "outputs": [],
   "source": [
    "from pandas import read_csv \n",
    "from sklearn.ensemble import RandomForestRegressor\n",
    "from sklearn.linear_model import LinearRegression\n",
    "from sklearn.model_selection import train_test_split\n",
    "from sklearn.svm import SVR\n",
    "from sklearn.feature_selection import SequentialFeatureSelector as sfs\n",
    "\n",
    "\n",
    "\n",
    "from scripts.pipeline_preprocess import pipeline_model"
   ]
  },
  {
   "cell_type": "code",
   "execution_count": 94,
   "metadata": {},
   "outputs": [
    {
     "data": {
      "text/html": [
       "<div>\n",
       "<style scoped>\n",
       "    .dataframe tbody tr th:only-of-type {\n",
       "        vertical-align: middle;\n",
       "    }\n",
       "\n",
       "    .dataframe tbody tr th {\n",
       "        vertical-align: top;\n",
       "    }\n",
       "\n",
       "    .dataframe thead th {\n",
       "        text-align: right;\n",
       "    }\n",
       "</style>\n",
       "<table border=\"1\" class=\"dataframe\">\n",
       "  <thead>\n",
       "    <tr style=\"text-align: right;\">\n",
       "      <th></th>\n",
       "      <th>sq_mt_built</th>\n",
       "      <th>n_rooms</th>\n",
       "      <th>n_bathrooms</th>\n",
       "      <th>floor</th>\n",
       "      <th>is_floor_under</th>\n",
       "      <th>rent_price</th>\n",
       "      <th>buy_price</th>\n",
       "      <th>buy_price_by_area</th>\n",
       "      <th>house_type_id</th>\n",
       "      <th>is_renewal_needed</th>\n",
       "      <th>is_new_development</th>\n",
       "      <th>is_exterior</th>\n",
       "      <th>energy_certificate</th>\n",
       "      <th>has_parking</th>\n",
       "    </tr>\n",
       "  </thead>\n",
       "  <tbody>\n",
       "    <tr>\n",
       "      <th>0</th>\n",
       "      <td>64.0</td>\n",
       "      <td>2</td>\n",
       "      <td>1.0</td>\n",
       "      <td>3</td>\n",
       "      <td>False</td>\n",
       "      <td>471</td>\n",
       "      <td>85000</td>\n",
       "      <td>1328</td>\n",
       "      <td>HouseType 1: Pisos</td>\n",
       "      <td>False</td>\n",
       "      <td>False</td>\n",
       "      <td>True</td>\n",
       "      <td>D</td>\n",
       "      <td>False</td>\n",
       "    </tr>\n",
       "  </tbody>\n",
       "</table>\n",
       "</div>"
      ],
      "text/plain": [
       "   sq_mt_built  n_rooms  n_bathrooms floor  is_floor_under  rent_price  \\\n",
       "0         64.0        2          1.0     3           False         471   \n",
       "\n",
       "   buy_price  buy_price_by_area       house_type_id  is_renewal_needed  \\\n",
       "0      85000               1328  HouseType 1: Pisos              False   \n",
       "\n",
       "   is_new_development  is_exterior energy_certificate  has_parking  \n",
       "0               False         True                  D        False  "
      ]
     },
     "execution_count": 94,
     "metadata": {},
     "output_type": "execute_result"
    }
   ],
   "source": [
    "dataframe = read_csv('../data/clean/houses_madrid_cleaned.csv')\n",
    "dataframe.head(1)"
   ]
  },
  {
   "cell_type": "markdown",
   "metadata": {},
   "source": [
    "# Features \n",
    "To have better performances, we will need to analyse features.  \n",
    "Firstly, we'll create new features that could be relevant."
   ]
  },
  {
   "cell_type": "code",
   "execution_count": 95,
   "metadata": {},
   "outputs": [
    {
     "data": {
      "text/html": [
       "<div>\n",
       "<style scoped>\n",
       "    .dataframe tbody tr th:only-of-type {\n",
       "        vertical-align: middle;\n",
       "    }\n",
       "\n",
       "    .dataframe tbody tr th {\n",
       "        vertical-align: top;\n",
       "    }\n",
       "\n",
       "    .dataframe thead th {\n",
       "        text-align: right;\n",
       "    }\n",
       "</style>\n",
       "<table border=\"1\" class=\"dataframe\">\n",
       "  <thead>\n",
       "    <tr style=\"text-align: right;\">\n",
       "      <th></th>\n",
       "      <th>sq_mt_built</th>\n",
       "      <th>n_rooms</th>\n",
       "      <th>n_bathrooms</th>\n",
       "      <th>floor</th>\n",
       "      <th>is_floor_under</th>\n",
       "      <th>rent_price</th>\n",
       "      <th>buy_price</th>\n",
       "      <th>buy_price_by_area</th>\n",
       "      <th>house_type_id</th>\n",
       "      <th>is_renewal_needed</th>\n",
       "      <th>is_new_development</th>\n",
       "      <th>is_exterior</th>\n",
       "      <th>energy_certificate</th>\n",
       "      <th>has_parking</th>\n",
       "      <th>n_total_rooms</th>\n",
       "      <th>coef_buy_price_by_era</th>\n",
       "      <th>buy_price_per_mt_built</th>\n",
       "    </tr>\n",
       "  </thead>\n",
       "  <tbody>\n",
       "    <tr>\n",
       "      <th>0</th>\n",
       "      <td>64.0</td>\n",
       "      <td>2</td>\n",
       "      <td>1.0</td>\n",
       "      <td>3</td>\n",
       "      <td>False</td>\n",
       "      <td>471</td>\n",
       "      <td>85000</td>\n",
       "      <td>1328</td>\n",
       "      <td>HouseType 1: Pisos</td>\n",
       "      <td>False</td>\n",
       "      <td>False</td>\n",
       "      <td>True</td>\n",
       "      <td>D</td>\n",
       "      <td>False</td>\n",
       "      <td>3.0</td>\n",
       "      <td>64.006024</td>\n",
       "      <td>1328.125000</td>\n",
       "    </tr>\n",
       "    <tr>\n",
       "      <th>1</th>\n",
       "      <td>70.0</td>\n",
       "      <td>3</td>\n",
       "      <td>1.0</td>\n",
       "      <td>4</td>\n",
       "      <td>False</td>\n",
       "      <td>666</td>\n",
       "      <td>129900</td>\n",
       "      <td>1856</td>\n",
       "      <td>HouseType 1: Pisos</td>\n",
       "      <td>True</td>\n",
       "      <td>False</td>\n",
       "      <td>True</td>\n",
       "      <td>en trámite</td>\n",
       "      <td>False</td>\n",
       "      <td>4.0</td>\n",
       "      <td>69.989224</td>\n",
       "      <td>1855.714286</td>\n",
       "    </tr>\n",
       "    <tr>\n",
       "      <th>2</th>\n",
       "      <td>94.0</td>\n",
       "      <td>2</td>\n",
       "      <td>2.0</td>\n",
       "      <td>1</td>\n",
       "      <td>False</td>\n",
       "      <td>722</td>\n",
       "      <td>144247</td>\n",
       "      <td>1535</td>\n",
       "      <td>HouseType 1: Pisos</td>\n",
       "      <td>False</td>\n",
       "      <td>False</td>\n",
       "      <td>True</td>\n",
       "      <td>no indicado</td>\n",
       "      <td>False</td>\n",
       "      <td>4.0</td>\n",
       "      <td>93.971987</td>\n",
       "      <td>1534.542553</td>\n",
       "    </tr>\n",
       "    <tr>\n",
       "      <th>3</th>\n",
       "      <td>64.0</td>\n",
       "      <td>2</td>\n",
       "      <td>1.0</td>\n",
       "      <td>Bajo</td>\n",
       "      <td>True</td>\n",
       "      <td>583</td>\n",
       "      <td>109900</td>\n",
       "      <td>1717</td>\n",
       "      <td>HouseType 1: Pisos</td>\n",
       "      <td>False</td>\n",
       "      <td>False</td>\n",
       "      <td>True</td>\n",
       "      <td>en trámite</td>\n",
       "      <td>False</td>\n",
       "      <td>3.0</td>\n",
       "      <td>64.006989</td>\n",
       "      <td>1717.187500</td>\n",
       "    </tr>\n",
       "    <tr>\n",
       "      <th>4</th>\n",
       "      <td>108.0</td>\n",
       "      <td>2</td>\n",
       "      <td>2.0</td>\n",
       "      <td>4</td>\n",
       "      <td>False</td>\n",
       "      <td>1094</td>\n",
       "      <td>260000</td>\n",
       "      <td>2407</td>\n",
       "      <td>HouseType 1: Pisos</td>\n",
       "      <td>False</td>\n",
       "      <td>False</td>\n",
       "      <td>True</td>\n",
       "      <td>en trámite</td>\n",
       "      <td>True</td>\n",
       "      <td>4.0</td>\n",
       "      <td>108.018280</td>\n",
       "      <td>2407.407407</td>\n",
       "    </tr>\n",
       "  </tbody>\n",
       "</table>\n",
       "</div>"
      ],
      "text/plain": [
       "   sq_mt_built  n_rooms  n_bathrooms floor  is_floor_under  rent_price  \\\n",
       "0         64.0        2          1.0     3           False         471   \n",
       "1         70.0        3          1.0     4           False         666   \n",
       "2         94.0        2          2.0     1           False         722   \n",
       "3         64.0        2          1.0  Bajo            True         583   \n",
       "4        108.0        2          2.0     4           False        1094   \n",
       "\n",
       "   buy_price  buy_price_by_area       house_type_id  is_renewal_needed  \\\n",
       "0      85000               1328  HouseType 1: Pisos              False   \n",
       "1     129900               1856  HouseType 1: Pisos               True   \n",
       "2     144247               1535  HouseType 1: Pisos              False   \n",
       "3     109900               1717  HouseType 1: Pisos              False   \n",
       "4     260000               2407  HouseType 1: Pisos              False   \n",
       "\n",
       "   is_new_development  is_exterior energy_certificate  has_parking  \\\n",
       "0               False         True                  D        False   \n",
       "1               False         True         en trámite        False   \n",
       "2               False         True        no indicado        False   \n",
       "3               False         True         en trámite        False   \n",
       "4               False         True         en trámite         True   \n",
       "\n",
       "   n_total_rooms  coef_buy_price_by_era  buy_price_per_mt_built  \n",
       "0            3.0              64.006024             1328.125000  \n",
       "1            4.0              69.989224             1855.714286  \n",
       "2            4.0              93.971987             1534.542553  \n",
       "3            3.0              64.006989             1717.187500  \n",
       "4            4.0             108.018280             2407.407407  "
      ]
     },
     "execution_count": 95,
     "metadata": {},
     "output_type": "execute_result"
    }
   ],
   "source": [
    "# To be sure that n_rooms doesn't stand for n_toal_rooms\n",
    "# print(dataframe[(dataframe[\"n_rooms\"] == 1) & (dataframe[\"n_bathrooms\"] == 1)])\n",
    "\n",
    "dataframe['n_total_rooms'] = dataframe['n_rooms'] + dataframe['n_bathrooms']\n",
    "dataframe['coef_buy_price_by_era'] = dataframe['buy_price'] / dataframe['buy_price_by_area']\n",
    "dataframe['buy_price_per_mt_built'] = dataframe['buy_price'] / dataframe['sq_mt_built']\n",
    "dataframe.head()"
   ]
  },
  {
   "cell_type": "markdown",
   "metadata": {},
   "source": [
    "### Analyse correlation of numerical features\n",
    "To analyse the interesting features, we can first look at the correlation with the target features. "
   ]
  },
  {
   "cell_type": "code",
   "execution_count": 96,
   "metadata": {},
   "outputs": [
    {
     "data": {
      "text/plain": [
       "buy_price                 1.000000\n",
       "coef_buy_price_by_era     0.814749\n",
       "sq_mt_built               0.814737\n",
       "n_bathrooms               0.731769\n",
       "n_total_rooms             0.655744\n",
       "buy_price_per_mt_built    0.633759\n",
       "buy_price_by_area         0.633745\n",
       "rent_price                0.615957\n",
       "n_rooms                   0.481796\n",
       "Name: buy_price, dtype: float64"
      ]
     },
     "execution_count": 96,
     "metadata": {},
     "output_type": "execute_result"
    }
   ],
   "source": [
    "NUMERICAL_COLUMNS = [column for column in dataframe.columns if dataframe[column].dtype in ('int64', 'float64')]\n",
    "correlation_matrix = dataframe[NUMERICAL_COLUMNS].corr()\n",
    "correlation_matrix['buy_price'].sort_values(ascending=False)"
   ]
  },
  {
   "cell_type": "code",
   "execution_count": 97,
   "metadata": {},
   "outputs": [
    {
     "name": "stdout",
     "output_type": "stream",
     "text": [
      "coef_buy_price_by_era     1.000000\n",
      "sq_mt_built               0.999996\n",
      "n_total_rooms             0.816346\n",
      "buy_price                 0.814749\n",
      "n_bathrooms               0.789000\n",
      "n_rooms                   0.689429\n",
      "rent_price                0.510968\n",
      "buy_price_per_mt_built    0.140836\n",
      "buy_price_by_area         0.140822\n",
      "Name: coef_buy_price_by_era, dtype: float64\n",
      "n_total_rooms             1.000000\n",
      "n_rooms                   0.925321\n",
      "n_bathrooms               0.856546\n",
      "sq_mt_built               0.816351\n",
      "coef_buy_price_by_era     0.816346\n",
      "buy_price                 0.655744\n",
      "rent_price                0.447866\n",
      "buy_price_by_area         0.061241\n",
      "buy_price_per_mt_built    0.061235\n",
      "Name: n_total_rooms, dtype: float64\n",
      "buy_price_per_mt_built    1.000000\n",
      "buy_price_by_area         0.999994\n",
      "buy_price                 0.633759\n",
      "rent_price                0.521169\n",
      "n_bathrooms               0.249184\n",
      "coef_buy_price_by_era     0.140836\n",
      "sq_mt_built               0.140828\n",
      "n_total_rooms             0.061235\n",
      "n_rooms                  -0.087889\n",
      "Name: buy_price_per_mt_built, dtype: float64\n"
     ]
    }
   ],
   "source": [
    "print(correlation_matrix['coef_buy_price_by_era'].sort_values(ascending=False))\n",
    "print(correlation_matrix['n_total_rooms'].sort_values(ascending=False))\n",
    "print(correlation_matrix['buy_price_per_mt_built'].sort_values(ascending=False))"
   ]
  },
  {
   "cell_type": "code",
   "execution_count": 98,
   "metadata": {},
   "outputs": [],
   "source": [
    "dataframe.drop(columns=['n_rooms', 'n_total_rooms', 'sq_mt_built', 'buy_price_by_area'], inplace=True)"
   ]
  },
  {
   "cell_type": "markdown",
   "metadata": {},
   "source": [
    "As we can see, all the features seems pretty correlation with globally more than 0.6 correlation with buy price.  \n",
    "Also, thanks to the created features, we can drop some columns.  \n",
    "*** \n",
    "### Forward feature selection\n",
    "To optimize the features selected, we're going to lookup for features selection methods."
   ]
  },
  {
   "cell_type": "code",
   "execution_count": 99,
   "metadata": {},
   "outputs": [
    {
     "name": "stdout",
     "output_type": "stream",
     "text": [
      "<class 'sklearn.linear_model._base.LinearRegression'> ['x2' 'x3']\n"
     ]
    }
   ],
   "source": [
    "dataframe, buy_price = dataframe.drop(columns=['buy_price']), dataframe['buy_price']\n",
    "dataframe_train, dataframe_test, buy_price_train, buy_price_test = train_test_split(dataframe, buy_price, test_size=0.3, random_state=40)\n",
    "pipeline = pipeline_model(dataframe_train)\n",
    "dataframe_train = pipeline.fit_transform(dataframe_train)\n",
    "\n",
    "for model in [LinearRegression]:\n",
    "    feature_selection = sfs(model(), n_features_to_select=2, scoring='neg_mean_squared_error')\n",
    "    feature_selection.fit(dataframe_train, buy_price_train)\n",
    "    print(model, feature_selection.get_feature_names_out())\n"
   ]
  },
  {
   "cell_type": "code",
   "execution_count": 100,
   "metadata": {},
   "outputs": [
    {
     "data": {
      "text/plain": [
       "<Compressed Sparse Row sparse matrix of dtype 'float64'\n",
       "\twith 74893 stored elements and shape (10699, 30)>"
      ]
     },
     "execution_count": 100,
     "metadata": {},
     "output_type": "execute_result"
    }
   ],
   "source": [
    "dataframe_train"
   ]
  }
 ],
 "metadata": {
  "kernelspec": {
   "display_name": "Python 3",
   "language": "python",
   "name": "python3"
  },
  "language_info": {
   "codemirror_mode": {
    "name": "ipython",
    "version": 3
   },
   "file_extension": ".py",
   "mimetype": "text/x-python",
   "name": "python",
   "nbconvert_exporter": "python",
   "pygments_lexer": "ipython3",
   "version": "3.11.5"
  }
 },
 "nbformat": 4,
 "nbformat_minor": 2
}
