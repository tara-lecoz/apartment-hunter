{
 "cells": [
  {
   "cell_type": "code",
   "execution_count": 28,
   "metadata": {},
   "outputs": [],
   "source": [
    "from pandas import read_csv"
   ]
  },
  {
   "cell_type": "code",
   "execution_count": 29,
   "metadata": {},
   "outputs": [],
   "source": [
    "dataframe = read_csv(\"../data/raw/houses_madrid.csv\")"
   ]
  },
  {
   "cell_type": "markdown",
   "metadata": {},
   "source": [
    "# Handle nulls values \n",
    "- We will drop the column if there is less than 40% of values"
   ]
  },
  {
   "cell_type": "code",
   "execution_count": 30,
   "metadata": {},
   "outputs": [
    {
     "name": "stdout",
     "output_type": "stream",
     "text": [
      "Drop column : sq_mt_useful\n",
      "Drop column : n_floors\n",
      "Drop column : sq_mt_allotment\n",
      "Drop column : latitude\n",
      "Drop column : longitude\n",
      "Drop column : street_number\n",
      "Drop column : portal\n",
      "Drop column : door\n",
      "Drop column : rent_price_by_area\n",
      "Drop column : are_pets_allowed\n",
      "Drop column : has_garden\n",
      "Drop column : has_pool\n",
      "Drop column : has_balcony\n",
      "Drop column : has_storage_room\n",
      "Drop column : is_furnished\n",
      "Drop column : is_kitchen_equipped\n",
      "Drop column : is_accessible\n",
      "Drop column : has_green_zones\n",
      "Drop column : has_private_parking\n",
      "Drop column : has_public_parking\n",
      "Drop column : is_parking_included_in_price\n",
      "Drop column : parking_price\n"
     ]
    }
   ],
   "source": [
    "dataframe_observations = dataframe.shape[0]\n",
    "\n",
    "for column in dataframe.columns:\n",
    "    if dataframe[column].isnull().sum() >  dataframe_observations * 0.6:\n",
    "        dataframe.drop(columns=[column], inplace=True)\n",
    "        print(f\"Drop column : {column}\")"
   ]
  }
 ],
 "metadata": {
  "kernelspec": {
   "display_name": "Python 3",
   "language": "python",
   "name": "python3"
  },
  "language_info": {
   "codemirror_mode": {
    "name": "ipython",
    "version": 3
   },
   "file_extension": ".py",
   "mimetype": "text/x-python",
   "name": "python",
   "nbconvert_exporter": "python",
   "pygments_lexer": "ipython3",
   "version": "3.12.6"
  }
 },
 "nbformat": 4,
 "nbformat_minor": 2
}
